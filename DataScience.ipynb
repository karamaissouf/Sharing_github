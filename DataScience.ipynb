{
 "cells": [
  {
   "cell_type": "markdown",
   "metadata": {
    "jupyter": {
     "source_hidden": true
    }
   },
   "source": [
    "**Python for Data Science**"
   ]
  },
  {
   "cell_type": "markdown",
   "metadata": {},
   "source": [
    "# Ipython : au delà du python classique\n",
    "\n",
    "## Introduction"
   ]
  },
  {
   "cell_type": "code",
   "execution_count": null,
   "metadata": {
    "jupyter": {
     "source_hidden": true
    }
   },
   "outputs": [],
   "source": []
  },
  {
   "cell_type": "markdown",
   "metadata": {},
   "source": [
    "# Introduction à Numpy"
   ]
  },
  {
   "cell_type": "markdown",
   "metadata": {},
   "source": [
    "Numpy?\n",
    "\n",
    "---\n",
    "Numpy est une librarie python destinée au calcul scientifique, sur le modèle matlab.\n",
    "\n",
    "---\n"
   ]
  },
  {
   "cell_type": "markdown",
   "metadata": {},
   "source": [
    "## Les types de données\n",
    "\n",
    "Un langage fortement et dynamiquement typé?\n",
    "\n",
    "---\n",
    "\n",
    "Pour comprendre cela, il faut faire la comparaison avec le langage C. Les variables sont déclarées tout en précisant le type avant toute opération alors que pour python, la reconnaissance du type correspondant se fait par python lui-même. \n",
    "De façon concrète, les choses se présentent comme suit : "
   ]
  },
  {
   "cell_type": "code",
   "execution_count": null,
   "metadata": {},
   "outputs": [],
   "source": [
    "#/* code C */. Stata est ecrit en C\n",
    "int result = 0;\n",
    "for(int i=0; i<100; i++){\n",
    "    result += i;\n",
    "}"
   ]
  },
  {
   "cell_type": "markdown",
   "metadata": {},
   "source": [
    "Le même code en python "
   ]
  },
  {
   "cell_type": "code",
   "execution_count": null,
   "metadata": {},
   "outputs": [],
   "source": [
    "# Le code en python\n",
    "result = 0\n",
    "for i in range(100):\n",
    "    result += i"
   ]
  },
  {
   "cell_type": "markdown",
   "metadata": {},
   "source": [
    "On peut rapidement faire la différence entre les deux codes. C exige que les types soit precisés alors Python n'en a pas besoin.  Il y a une flexibilité inconstestable en Python comme on peut le remarquer...mais cela a une contrepartie : le temps d'exécution qui semble plus long par rapport avec un code écrit en C. Cette faiblesse peut-elle encore être à l'ordre du jour avec des ordinateurs de plus en plus rapide. \n",
    "****\n",
    "Nous n'irons pas dans les détails en ce qui concerne cette comparaison entre Python et C. Allons découvrir Python en pratique pour la Data Science. \n"
   ]
  },
  {
   "cell_type": "markdown",
   "metadata": {},
   "source": [
    "## Les bases des arrays "
   ]
  },
  {
   "cell_type": "markdown",
   "metadata": {},
   "source": [
    "**Apprenons créer des tableaux multidimensionnels avec Numpy**\n",
    "***\n",
    "Comment générer un tableau multidimensionnels de données avec Numpy? Pour les tableaux simples, on utilise les listes---structures de données---pour en créer."
   ]
  },
  {
   "cell_type": "code",
   "execution_count": 1,
   "metadata": {},
   "outputs": [],
   "source": [
    "# Importons le package/librarie/module numpy. As affecte un diminutif à numpy. On parle précisement d'alias\n",
    "import numpy as np"
   ]
  },
  {
   "cell_type": "code",
   "execution_count": 16,
   "metadata": {},
   "outputs": [],
   "source": [
    "# Generation des tableaux multidimensionnels\n",
    "k=np.array([1,2,3,4,5])# Le plus simplement possible\n",
    "m=np.array([[1,2,34],[2,3,4]]) # un tableau à partir d'une liste de liste\n",
    "n=np.array(((1,2,3),(3,4,5))) # Au lieu des [], on peut utiliser (). Mais attention, il vaut mieux choisir []\n"
   ]
  },
  {
   "cell_type": "markdown",
   "metadata": {},
   "source": [
    "**Les tableaux multidimensionnels et le type de données**\n",
    "___\n",
    "- Si l'ensemble des éléments de la liste peuvent être de type différent, comme une matrice, les élements du tableaux doivent de même type. Si possible, certaines données sont \"contraintes\". \n",
    "- L'exemple type c'est avec les données de type intègre qui sont convertis en type réel ou décimal dès qu'il y a un nombre réel ou décimal parmi les éléments du tableau. "
   ]
  },
  {
   "cell_type": "code",
   "execution_count": 20,
   "metadata": {},
   "outputs": [],
   "source": [
    "# Un exemple de upcasting fait par python\n",
    "l=np.array([1,2.5,5,7]) # Tous les éléments de l sont devenus des décimaux. \n"
   ]
  },
  {
   "cell_type": "markdown",
   "metadata": {},
   "source": [
    "Le choix du type de données dans le tableau peut se faire dès la construction du tableau. Pour le faire on procède la façon suivante : "
   ]
  },
  {
   "cell_type": "code",
   "execution_count": 26,
   "metadata": {},
   "outputs": [],
   "source": [
    "p=np.array([1,2,3,4],dtype=\"float\") # au lieu de int, on peut utiliser : int, float, int32,int64,float32,float64...."
   ]
  },
  {
   "cell_type": "markdown",
   "metadata": {},
   "source": [
    "_Pour des tableaux de données réellement multidimensionnels_\n",
    "\n",
    "Nous l'avons déjà fait plus haut(confère paragraphe concernant la génération des tableaux multidimensionnels), nous revenons pour mettre en exergue les sources de confusion auxquelles souvent nous sommes exposés. "
   ]
  },
  {
   "cell_type": "code",
   "execution_count": 31,
   "metadata": {},
   "outputs": [
    {
     "data": {
      "text/plain": [
       "array([[1., 2., 3.],\n",
       "       [4., 5., 6.]])"
      ]
     },
     "execution_count": 31,
     "metadata": {},
     "output_type": "execute_result"
    }
   ],
   "source": [
    "q=np.array([[1,2,3],[4,5,6]],dtype=\"float\") # le nombre de liste constitue la dim1 du tableau.\n",
    "# Le nombre d'éléments dans la liste constitue la dim2 du tableau\n",
    "q"
   ]
  },
  {
   "cell_type": "markdown",
   "metadata": {},
   "source": [
    "__Les routines natives de Python permettant de créer des tableaux multidimensionnels__\n",
    "Pour créer des tableaux de données multidimensionnels,on peut si utile faire appel aux routines qui sont natives à python : \n",
    "- avec les zéros;\n",
    "- avec les 1;\n",
    "- avec la même valeur;\n",
    "- des séquences de valeurs séparées par ...;\n",
    "- ... valeurs comprises entre 0 et 1;\n",
    "- un jeu de données distribuées uniformément entre 0 et 1 dans un tableau$(3x3)$\n",
    "- un jeu de données distribuées normalement de loi N(0,1)\n",
    "- un jeu de données de type intègre dans l'intervalle$[0,10)$\n",
    "- une matrice identité $(3x3)$\n",
    "- avec des valeurs(n'importe laquelle) présentent en mémoire\n",
    "\n",
    "\n"
   ]
  },
  {
   "cell_type": "code",
   "execution_count": 62,
   "metadata": {},
   "outputs": [
    {
     "data": {
      "text/plain": [
       "array([3.14159265, 3.14159265, 3.14159265, 3.14159265, 3.14159265,\n",
       "       3.14159265, 3.14159265, 3.14159265, 3.14159265, 3.14159265])"
      ]
     },
     "execution_count": 62,
     "metadata": {},
     "output_type": "execute_result"
    }
   ],
   "source": [
    "# Concretement\n",
    "zero=np.zeros(10,dtype=\"int\") \n",
    "zero_1=np.zeros((2,3),dtype=\"float\")\n",
    "one=np.ones(10)\n",
    "one_1=np.ones((2,3),dtype=\"float64\")\n",
    "full=np.full(10,np.pi)\n",
    "full_1=np.full((2,3),2)\n",
    "arange=np.arange(0,20,2) \n",
    "linspace=np.linspace(0,1,5)\n",
    "unif=np.random.random((3,3))\n",
    "normal=np.random.normal(0,1,(3,3))\n",
    "randint=np.random.randint(0,10,(3,3))\n",
    "ident=np.eye(10)\n",
    "empty=np.empty(10)"
   ]
  },
  {
   "cell_type": "markdown",
   "metadata": {},
   "source": [
    "**Les attributs des tableaux muldimensionnels de numpy**\n",
    "\n",
    "_Les attributs_\n",
    "\n",
    "Cette section porte sur les attributs des tableaux multidimensionnels : taille, dimension, type de données, consommation de la mémoire\n",
    "_L'indexation : cas d'un seul élément_\n",
    "\n",
    "Obtenir et modifier un élément du tableau\n",
    "\n",
    "_Les sous-tableaux_\n",
    "\n",
    " Obtenir et modifier un sous-tableau dans un tableau de données plus grand\n",
    " \n",
    "_Le redimensionnement des tableaux_\n",
    "\n",
    "Modifier la dimension d'un tableau\n",
    "\n",
    "_Concatener ou subdiviser un tableau_\n",
    "\n",
    "Concatener plusieurs tableau en un seul et subdiviser un tableau en plusieurs."
   ]
  },
  {
   "cell_type": "markdown",
   "metadata": {},
   "source": [
    "___\n",
    "Faisons les choses concrètement...\n",
    "___"
   ]
  },
  {
   "cell_type": "code",
   "execution_count": 2,
   "metadata": {},
   "outputs": [],
   "source": [
    "# Les attributs\n",
    "np.random.seed(2213) #\n",
    "x1=np.random.randint(0,10,7)\n",
    "x1.ndim # nbre de dimension\n",
    "x1.shape # Ordre du tableau multidimensionnel\n",
    "x1.size # nbre d'éléments\n",
    "x2=np.random.normal(1,3,(3,4))\n",
    "x2.ndim\n",
    "x2.shape\n",
    "x2.size\n",
    "x3=np.random.random((4,7,9))\n",
    "x3.ndim\n",
    "x3.shape\n",
    "x3.size\n",
    "## Autre attribut important...juste à titre indicatif\n",
    "x3.dtype\n",
    "taille=x3.itemsize # taille de l'objet x3 dans la memoire\n",
    "\n",
    "# Indexation d'un seul élément\n",
    "x4=np.random.randint(1,10,5) # array([9, 4, 2, 1, 2])\n",
    "x4[0] # pour obtenir le premier élément\n",
    "x4[4] # pour obtenir le dernier (5-1) élément\n",
    "## utilisation des indices négatifs\n",
    "x4[-1]\n",
    "x4[-3]\n",
    "x4[-5]\n",
    "## raisonnons sur un tableau multidimensionnel\n",
    "x5=np.random.random((2,3)) #array([[0.82195538, 0.42961994, 0.40522379],\n",
    "                                 #[0.12419952, 0.5331591 , 0.02888004]])\n",
    "x5[1,2]\n",
    "#x5[2,2] signale erreur....compte tenu l'ordre du tableau et 0 comme debut de comptage\n",
    "x5[0,-1] # -1 indique le dernier element...ici la derniere colonne\n",
    "\n",
    "## On peut utiliser l'indexation pour modifier une valeur dans le tableau\n",
    "x6=np.ones((3,2),dtype=\"int32\")\n",
    "x6[2,1]=5\n",
    "x6[2,0]=0.5  # On remarque que 0.5 n'apparait pas mais 0. Python a voulu respecter le type de données du tableau initial\n"
   ]
  },
  {
   "cell_type": "code",
   "execution_count": 5,
   "metadata": {},
   "outputs": [
    {
     "data": {
      "text/plain": [
       "array([[-0.31113857, -0.0609659 , -0.07393864],\n",
       "       [-0.97474115, -2.20045831, -0.39187539],\n",
       "       [-0.55575572, -0.25491652, -0.60723963],\n",
       "       [ 1.72326101, -1.75655764,  0.2798671 ],\n",
       "       [ 1.22173331, -0.81023074,  0.76830346],\n",
       "       [ 0.36624572, -0.26095896,  1.77677379],\n",
       "       [ 0.68903632,  0.28230958, -0.98561126]])"
      ]
     },
     "execution_count": 5,
     "metadata": {},
     "output_type": "execute_result"
    }
   ],
   "source": [
    "# Acceder à un sous-tableau\n",
    "x7=np.random.normal(0,1,(7,3))\n",
    "x7"
   ]
  },
  {
   "cell_type": "code",
   "execution_count": 7,
   "metadata": {},
   "outputs": [
    {
     "data": {
      "text/plain": [
       "array([[-0.55575572, -0.25491652, -0.60723963],\n",
       "       [ 1.72326101, -1.75655764,  0.2798671 ],\n",
       "       [ 1.22173331, -0.81023074,  0.76830346],\n",
       "       [ 0.36624572, -0.26095896,  1.77677379],\n",
       "       [ 0.68903632,  0.28230958, -0.98561126]])"
      ]
     },
     "execution_count": 7,
     "metadata": {},
     "output_type": "execute_result"
    }
   ],
   "source": [
    "## Acceder au sous-tableau\n",
    "x7_1=x7[2:]\n",
    "x7_1"
   ]
  },
  {
   "cell_type": "code",
   "execution_count": 10,
   "metadata": {},
   "outputs": [
    {
     "data": {
      "text/plain": [
       "array([-0.0609659 , -2.20045831])"
      ]
     },
     "execution_count": 10,
     "metadata": {},
     "output_type": "execute_result"
    }
   ],
   "source": [
    "x7_2=x7[:2,1]\n",
    "x7_2"
   ]
  },
  {
   "cell_type": "markdown",
   "metadata": {},
   "source": [
    "## Sous-tableaux unidimensionnels de Numpy"
   ]
  },
  {
   "cell_type": "code",
   "execution_count": 8,
   "metadata": {},
   "outputs": [
    {
     "data": {
      "text/plain": [
       "array([5, 3, 1])"
      ]
     },
     "execution_count": 8,
     "metadata": {},
     "output_type": "execute_result"
    }
   ],
   "source": [
    "x8=np.arange(10) # array([0, 1, 2, 3, 4, 5, 6, 7, 8, 9])\n",
    "x8_1=x8[::2] ## retenir les nombres à partir de 0 en partant de 0\n",
    "x8_2=x8[1::2] ## retenir les nombres à partir de 0 en partant de 1\n",
    "x8_3=x8[::-1]\n",
    "x8_4=x8[5::-2] # fait le meme travail mais en inversant avec le pas =-2"
   ]
  },
  {
   "cell_type": "markdown",
   "metadata": {},
   "source": [
    "## Acceder aux sous tableaux multidimensionnels de Numpy"
   ]
  },
  {
   "cell_type": "code",
   "execution_count": 13,
   "metadata": {},
   "outputs": [
    {
     "data": {
      "text/plain": [
       "array([[8, 9],\n",
       "       [6, 8],\n",
       "       [9, 4],\n",
       "       [3, 6],\n",
       "       [8, 4]])"
      ]
     },
     "execution_count": 13,
     "metadata": {},
     "output_type": "execute_result"
    }
   ],
   "source": [
    "x9=np.random.randint(0,10,(5,4))\n",
    "x9_1=x9[:2,:3] # Extraction d'un tableau multidimensionnel 2 lignes, 3 colonnes\n",
    "x9_2=x9[:3,::2] # Extraction d'un TD 3 lignes (0,1,2) et les colonnes selon un pas de 2 en benginning par 0\n",
    "# On peut utiliser les valeurs negatives...\n",
    "x9_3=x9[::-1,::-2]"
   ]
  },
  {
   "cell_type": "markdown",
   "metadata": {},
   "source": [
    "## Acceder à des éléments d'un tableau multidimensionnel"
   ]
  },
  {
   "cell_type": "code",
   "execution_count": 23,
   "metadata": {},
   "outputs": [
    {
     "data": {
      "text/plain": [
       "array([0.28440161, 0.34523114, 0.02794007, 0.73965024])"
      ]
     },
     "execution_count": 23,
     "metadata": {},
     "output_type": "execute_result"
    }
   ],
   "source": [
    "x10=np.random.random((5,4))\n",
    "x10_1=x10[2,3] # acceder a un element : position 2 et 3\n",
    "x10_2=x10[:,1] # acceder la colonne 1\n",
    "x10_3=x10[1,:] # acceder a la ligne 1  =x10[1]\n",
    "x10_4=x10[1]"
   ]
  },
  {
   "cell_type": "markdown",
   "metadata": {},
   "source": [
    "## Une vue ou une copie\n",
    "\n",
    "Lorsque l'on extrait un sous tableau multidimensionnel de données, contrairement à d'autres langages où le sous-tableau est indépendant, cela n'est pas le cas chez Pyhton. C'est une vue qui est extraite ou créer. \n",
    "\n",
    "La conséquence remarquable est que cette vue (une sorte de copie )reste liée à au tableau dont elle est issue. On peut le voir en concrètement : "
   ]
  },
  {
   "cell_type": "code",
   "execution_count": 12,
   "metadata": {},
   "outputs": [
    {
     "data": {
      "text/plain": [
       "array([[ 1.        ,  0.21455022,  1.16383876,  0.52418796,  1.83323499],\n",
       "       [ 1.14597158,  0.84470227, -0.21460153, -0.53504956,  0.62260077],\n",
       "       [-0.90960016, -1.26021147, -0.08790876,  1.24567512, -0.19937141],\n",
       "       [-0.24447109,  0.78693425, -0.1214313 , -0.21844466, -1.61076564]])"
      ]
     },
     "execution_count": 12,
     "metadata": {},
     "output_type": "execute_result"
    }
   ],
   "source": [
    "m= np.random.normal(0,1,(4,5))\n",
    "m_1=m[:3,::2]\n",
    "#array([[ 1.5452263 , -0.28246864, -1.30583321,  0.55801015, -0.01412886],\n",
    "#       [ 1.5634321 , -0.8729321 , -0.46186281,  0.77891609,  0.4067519 ],\n",
    "#       [ 0.34912937, -1.15370473,  0.30293115,  0.47600557, -0.68059335],\n",
    "#       [-0.93793751,  0.04919251,  1.25983511, -0.81346766,  0.42117295]])\n",
    "# \n",
    "#m_1 array([[-2.28126538, -1.35363821, -0.28234879],\n",
    "#       [ 3.60013259,  1.68797721,  1.0855391 ],\n",
    "#       [-0.73551981,  1.66611382,  1.59034498]])\n",
    "# Nous allons modifier une valeur dans m_1, \n",
    "m_1[0,0]=1\n",
    "#array([[ 1.        , -0.55947367, -0.77731252],\n",
    "#       [-1.01232315, -0.84191502, -0.93326354],\n",
    "#       [-0.07387897, -0.43551456, -0.41799563]])\n",
    "m "
   ]
  },
  {
   "cell_type": "markdown",
   "metadata": {},
   "source": [
    "On peut faire le constat que la valeur à la position (0,0) dans le tableau de données multidimensionnel de départ a bien été modifié.\n",
    "\n",
    "Cela a sans doute des avantages dans la manipulation des données de grand volume ; mais ne peut manquer de poser des problèmes par moment lorsque nous ne voulons pas modifier les données de base en mémoire. On utilise la fonction copy() dans Python à cet effet. \n",
    "\n",
    "Utilisons cette fonction ...."
   ]
  },
  {
   "cell_type": "code",
   "execution_count": 14,
   "metadata": {},
   "outputs": [
    {
     "data": {
      "text/plain": [
       "array([[42.        ,  1.16383876,  1.83323499],\n",
       "       [ 1.14597158, -0.21460153,  0.62260077],\n",
       "       [-0.90960016, -0.08790876, -0.19937141]])"
      ]
     },
     "execution_count": 14,
     "metadata": {},
     "output_type": "execute_result"
    }
   ],
   "source": [
    "m_1_copy=m_1.copy()\n",
    "m_1_copy[0,0]=42\n",
    "m_1_copy"
   ]
  },
  {
   "cell_type": "markdown",
   "metadata": {},
   "source": [
    "## Les principales opérations possibles avec les arrays dans numpy"
   ]
  },
  {
   "cell_type": "code",
   "execution_count": 9,
   "metadata": {},
   "outputs": [
    {
     "data": {
      "text/plain": [
       "array([-0.0609659 , -2.20045831])"
      ]
     },
     "execution_count": 9,
     "metadata": {},
     "output_type": "execute_result"
    }
   ],
   "source": []
  },
  {
   "cell_type": "markdown",
   "metadata": {},
   "source": [
    "## Les aggrégations : min, max "
   ]
  },
  {
   "cell_type": "markdown",
   "metadata": {},
   "source": [
    "## Les opérations sur les arrays : broadcasting"
   ]
  },
  {
   "cell_type": "markdown",
   "metadata": {},
   "source": [
    "## Les comparaisons, mask et logique booléenne"
   ]
  },
  {
   "cell_type": "markdown",
   "metadata": {},
   "source": [
    "## L'indexation"
   ]
  },
  {
   "cell_type": "markdown",
   "metadata": {},
   "source": [
    "## Trier dans l'array"
   ]
  },
  {
   "cell_type": "markdown",
   "metadata": {},
   "source": [
    "## Données structurées dans Numpy"
   ]
  },
  {
   "cell_type": "markdown",
   "metadata": {},
   "source": [
    "# Manipulation des données avec Pandas"
   ]
  },
  {
   "cell_type": "markdown",
   "metadata": {},
   "source": [
    "# Visualisation avec Matplotlib"
   ]
  },
  {
   "cell_type": "markdown",
   "metadata": {},
   "source": [
    "# Apprentissage machine"
   ]
  },
  {
   "cell_type": "code",
   "execution_count": null,
   "metadata": {},
   "outputs": [],
   "source": []
  }
 ],
 "metadata": {
  "kernelspec": {
   "display_name": "Python 3",
   "language": "python",
   "name": "python3"
  },
  "language_info": {
   "codemirror_mode": {
    "name": "ipython",
    "version": 3
   },
   "file_extension": ".py",
   "mimetype": "text/x-python",
   "name": "python",
   "nbconvert_exporter": "python",
   "pygments_lexer": "ipython3",
   "version": "3.7.4"
  },
  "toc-autonumbering": true
 },
 "nbformat": 4,
 "nbformat_minor": 4
}
